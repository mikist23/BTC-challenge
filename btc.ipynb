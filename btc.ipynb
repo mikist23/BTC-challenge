{
 "cells": [
  {
   "cell_type": "markdown",
   "metadata": {},
   "source": [
    "pip install pandas numpy matplotlib scikit-learn tensorflow yfinance\n",
    "pandas for data manipulation.\n",
    "numpy for numerical operations.\n",
    "matplotlib for plotting.\n",
    "scikit-learn for machine learning algorithms.\n",
    "tensorflow (optional) for more advanced ML models (if needed).\n",
    "yfinance for downloading historical Bitcoin data."
   ]
  },
  {
   "cell_type": "markdown",
   "metadata": {},
   "source": [
    "Download Bitcoin data using yfinance"
   ]
  },
  {
   "cell_type": "code",
   "execution_count": null,
   "metadata": {},
   "outputs": [
    {
     "name": "stdout",
     "output_type": "stream",
     "text": [
      "YF.download() has changed argument auto_adjust default to True\n"
     ]
    },
    {
     "name": "stderr",
     "output_type": "stream",
     "text": [
      "[*********************100%***********************]  1 of 1 completed\n"
     ]
    }
   ],
   "source": [
    "import yfinance as yf\n",
    "\n",
    "# Download historical data for Bitcoin (BTC)\n",
    "btc_data = yf.download(\"BTC-USD\", start=\"2020-01-01\", end=\"2025-01-01\", interval=\"1d\")\n",
    "btc_data.to_csv(\"bitcoin_data.csv\")\n"
   ]
  },
  {
   "cell_type": "markdown",
   "metadata": {},
   "source": [
    "Load the dataset into a DataFrame"
   ]
  },
  {
   "cell_type": "code",
   "execution_count": null,
   "metadata": {},
   "outputs": [
    {
     "name": "stdout",
     "output_type": "stream",
     "text": [
      "       Ticker      BTC-USD    BTC-USD.1    BTC-USD.2    BTC-USD.3  \\\n",
      "0        Date          NaN          NaN          NaN          NaN   \n",
      "1  2020-01-01  7200.174316  7254.330566  7174.944336  7194.892090   \n",
      "2  2020-01-02  6985.470215  7212.155273  6935.270020  7202.551270   \n",
      "3  2020-01-03  7344.884277  7413.715332  6914.996094  6984.428711   \n",
      "4  2020-01-04  7410.656738  7427.385742  7309.514160  7345.375488   \n",
      "\n",
      "      BTC-USD.4  \n",
      "0           NaN  \n",
      "1  1.856566e+10  \n",
      "2  2.080208e+10  \n",
      "3  2.811148e+10  \n",
      "4  1.844427e+10  \n"
     ]
    }
   ],
   "source": [
    "import pandas as pd\n",
    "\n",
    "# Load the data into a DataFrame\n",
    "btc_data = pd.read_csv(\"bitcoin_data.csv\", header=1)  # This will skip the first row as headers if needed\n",
    "print(btc_data.head())\n"
   ]
  },
  {
   "cell_type": "code",
   "execution_count": null,
   "metadata": {},
   "outputs": [
    {
     "name": "stdout",
     "output_type": "stream",
     "text": [
      "         Date        Close         High          Low         Open  \\\n",
      "0        Date          NaN          NaN          NaN          NaN   \n",
      "1  2020-01-01  7200.174316  7254.330566  7174.944336  7194.892090   \n",
      "2  2020-01-02  6985.470215  7212.155273  6935.270020  7202.551270   \n",
      "3  2020-01-03  7344.884277  7413.715332  6914.996094  6984.428711   \n",
      "4  2020-01-04  7410.656738  7427.385742  7309.514160  7345.375488   \n",
      "\n",
      "         Volume  \n",
      "0           NaN  \n",
      "1  1.856566e+10  \n",
      "2  2.080208e+10  \n",
      "3  2.811148e+10  \n",
      "4  1.844427e+10  \n"
     ]
    }
   ],
   "source": [
    "# Manually rename the columns\n",
    "btc_data.columns = ['Date', 'Close', 'High', 'Low', 'Open', 'Volume']\n",
    "print(btc_data.head())\n"
   ]
  },
  {
   "cell_type": "code",
   "execution_count": null,
   "metadata": {},
   "outputs": [
    {
     "name": "stdout",
     "output_type": "stream",
     "text": [
      "         Date        Close         High          Low         Open  \\\n",
      "1  2020-01-01  7200.174316  7254.330566  7174.944336  7194.892090   \n",
      "2  2020-01-02  6985.470215  7212.155273  6935.270020  7202.551270   \n",
      "3  2020-01-03  7344.884277  7413.715332  6914.996094  6984.428711   \n",
      "4  2020-01-04  7410.656738  7427.385742  7309.514160  7345.375488   \n",
      "5  2020-01-05  7411.317383  7544.497070  7400.535645  7410.451660   \n",
      "\n",
      "         Volume  \n",
      "1  1.856566e+10  \n",
      "2  2.080208e+10  \n",
      "3  2.811148e+10  \n",
      "4  1.844427e+10  \n",
      "5  1.972507e+10  \n"
     ]
    }
   ],
   "source": [
    "# #  Drop the first row (index=0) that contains \"Ticker\" and other non-relevant data:\n",
    "# btc_data = btc_data.drop(index=0)\n",
    "# print(btc_data.head())\n",
    "\n"
   ]
  },
  {
   "cell_type": "markdown",
   "metadata": {},
   "source": [
    "Perform exploratory data analysis (EDA)"
   ]
  },
  {
   "cell_type": "code",
   "execution_count": null,
   "metadata": {},
   "outputs": [
    {
     "name": "stdout",
     "output_type": "stream",
     "text": [
      "Date      0\n",
      "Close     0\n",
      "High      0\n",
      "Low       0\n",
      "Open      0\n",
      "Volume    0\n",
      "dtype: int64\n"
     ]
    }
   ],
   "source": [
    "# # Check for missing values\n",
    "# print(btc_data.isnull().sum())\n",
    "\n"
   ]
  },
  {
   "cell_type": "code",
   "execution_count": null,
   "metadata": {},
   "outputs": [
    {
     "name": "stdout",
     "output_type": "stream",
     "text": [
      "Index(['Date', 'Close', 'High', 'Low', 'Open', 'Volume'], dtype='object')\n",
      "         Date        Close         High          Low         Open  \\\n",
      "1  2020-01-01  7200.174316  7254.330566  7174.944336  7194.892090   \n",
      "2  2020-01-02  6985.470215  7212.155273  6935.270020  7202.551270   \n",
      "3  2020-01-03  7344.884277  7413.715332  6914.996094  6984.428711   \n",
      "4  2020-01-04  7410.656738  7427.385742  7309.514160  7345.375488   \n",
      "5  2020-01-05  7411.317383  7544.497070  7400.535645  7410.451660   \n",
      "\n",
      "         Volume  \n",
      "1  1.856566e+10  \n",
      "2  2.080208e+10  \n",
      "3  2.811148e+10  \n",
      "4  1.844427e+10  \n",
      "5  1.972507e+10  \n"
     ]
    }
   ],
   "source": [
    "# # Remove any extra spaces from column names\n",
    "# btc_data.columns = btc_data.columns.str.strip() \n",
    "# print(btc_data.columns)\n",
    "# print(btc_data.head())\n",
    "\n"
   ]
  },
  {
   "cell_type": "markdown",
   "metadata": {},
   "source": [
    "Convert Data Types"
   ]
  },
  {
   "cell_type": "code",
   "execution_count": null,
   "metadata": {},
   "outputs": [
    {
     "name": "stdout",
     "output_type": "stream",
     "text": [
      "        Date        Close         High          Low         Open        Volume\n",
      "1 2020-01-01  7200.174316  7254.330566  7174.944336  7194.892090  1.856566e+10\n",
      "2 2020-01-02  6985.470215  7212.155273  6935.270020  7202.551270  2.080208e+10\n",
      "3 2020-01-03  7344.884277  7413.715332  6914.996094  6984.428711  2.811148e+10\n",
      "4 2020-01-04  7410.656738  7427.385742  7309.514160  7345.375488  1.844427e+10\n",
      "5 2020-01-05  7411.317383  7544.497070  7400.535645  7410.451660  1.972507e+10\n"
     ]
    }
   ],
   "source": [
    "# # Convert 'Date' to datetime\n",
    "# btc_data['Date'] = pd.to_datetime(btc_data['Date'], errors='coerce')\n",
    "\n",
    "# # Convert columns to numeric\n",
    "# btc_data['Close'] = pd.to_numeric(btc_data['Close'], errors='coerce')\n",
    "# btc_data['High'] = pd.to_numeric(btc_data['High'], errors='coerce')\n",
    "# btc_data['Low'] = pd.to_numeric(btc_data['Low'], errors='coerce')\n",
    "# btc_data['Open'] = pd.to_numeric(btc_data['Open'], errors='coerce')\n",
    "# btc_data['Volume'] = pd.to_numeric(btc_data['Volume'], errors='coerce')\n",
    "\n",
    "\n",
    "# print(btc_data.head())"
   ]
  },
  {
   "cell_type": "code",
   "execution_count": null,
   "metadata": {},
   "outputs": [
    {
     "name": "stdout",
     "output_type": "stream",
     "text": [
      "                                Date          Close           High  \\\n",
      "count                           1827    1827.000000    1827.000000   \n",
      "mean   2022-07-02 00:00:00.000000256   36317.361552   37071.334190   \n",
      "min              2020-01-01 00:00:00    4970.788086    5331.833984   \n",
      "25%              2021-04-01 12:00:00   19620.197266   20118.541992   \n",
      "50%              2022-07-02 00:00:00   32186.277344   33327.101562   \n",
      "75%              2023-10-01 12:00:00   50716.017578   51901.730469   \n",
      "max              2024-12-31 00:00:00  106140.601562  108268.445312   \n",
      "std                              NaN   21119.797067   21561.461651   \n",
      "\n",
      "                 Low           Open        Volume  \n",
      "count    1827.000000    1827.000000  1.827000e+03  \n",
      "mean    35445.250272   36272.665626  3.317871e+10  \n",
      "min      4106.980957    5002.578125  5.331173e+09  \n",
      "25%     19246.264648   19594.292969  2.060609e+10  \n",
      "50%     31030.265625   32138.873047  2.993834e+10  \n",
      "75%     49072.609375   50673.753906  4.018169e+10  \n",
      "max    105291.734375  106147.296875  3.509679e+11  \n",
      "std     20610.150739   21090.752651  1.951572e+10  \n"
     ]
    },
    {
     "data": {
      "text/plain": [
       "<Axes: title={'center': 'Bitcoin Price over Time'}>"
      ]
     },
     "execution_count": 8,
     "metadata": {},
     "output_type": "execute_result"
    },
    {
     "data": {
      "image/png": "[encoded data removed]",
      "text/plain": [
       "<Figure size 640x480 with 1 Axes>"
      ]
     },
     "metadata": {},
     "output_type": "display_data"
    }
   ],
   "source": [
    "#  # Summary statistics\n",
    "# print(btc_data.describe()) \n",
    "# btc_data['Close'].plot(title='Bitcoin Price over Time')\n"
   ]
  },
  {
   "cell_type": "markdown",
   "metadata": {},
   "source": [
    "Feature Engineering: You can create new features, such as:\n",
    "\n",
    "Moving averages (e.g., 7-day, 30-day)."
   ]
  },
  {
   "cell_type": "code",
   "execution_count": null,
   "metadata": {},
   "outputs": [
    {
     "name": "stdout",
     "output_type": "stream",
     "text": [
      "         Date        Close         High          Low         Open  \\\n",
      "1  2020-01-01  7200.174316  7254.330566  7174.944336  7194.892090   \n",
      "2  2020-01-02  6985.470215  7212.155273  6935.270020  7202.551270   \n",
      "3  2020-01-03  7344.884277  7413.715332  6914.996094  6984.428711   \n",
      "4  2020-01-04  7410.656738  7427.385742  7309.514160  7345.375488   \n",
      "5  2020-01-05  7411.317383  7544.497070  7400.535645  7410.451660   \n",
      "6  2020-01-06  7769.219238  7781.867188  7409.292969  7410.452148   \n",
      "7  2020-01-07  8163.692383  8178.215820  7768.227539  7768.682129   \n",
      "8  2020-01-08  8079.862793  8396.738281  7956.774414  8161.935547   \n",
      "9  2020-01-09  7879.071289  8082.295898  7842.403809  8082.295898   \n",
      "10 2020-01-10  8166.554199  8166.554199  7726.774902  7878.307617   \n",
      "11 2020-01-11  8037.537598  8218.359375  8029.642090  8162.190918   \n",
      "12 2020-01-12  8192.494141  8200.063477  8009.059082  8033.261719   \n",
      "13 2020-01-13  8144.194336  8197.788086  8079.700684  8189.771973   \n",
      "14 2020-01-14  8827.764648  8879.511719  8140.933105  8140.933105   \n",
      "15 2020-01-15  8807.010742  8890.117188  8657.187500  8825.343750   \n",
      "16 2020-01-16  8723.786133  8846.460938  8612.095703  8812.481445   \n",
      "17 2020-01-17  8929.038086  8958.122070  8677.316406  8725.209961   \n",
      "18 2020-01-18  8942.808594  9012.198242  8827.332031  8927.211914   \n",
      "19 2020-01-19  8706.245117  9164.362305  8620.080078  8941.445312   \n",
      "20 2020-01-20  8657.642578  8745.590820  8560.473633  8704.631836   \n",
      "\n",
      "          Volume          MA7  MA30  \n",
      "1   1.856566e+10          NaN   NaN  \n",
      "2   2.080208e+10          NaN   NaN  \n",
      "3   2.811148e+10          NaN   NaN  \n",
      "4   1.844427e+10          NaN   NaN  \n",
      "5   1.972507e+10          NaN   NaN  \n",
      "6   2.327626e+10          NaN   NaN  \n",
      "7   2.876729e+10  7469.344936   NaN  \n",
      "8   3.167256e+10  7595.014718   NaN  \n",
      "9   2.404599e+10  7722.672015   NaN  \n",
      "10  2.871458e+10  7840.053432   NaN  \n",
      "11  2.552117e+10  7929.607840   NaN  \n",
      "12  2.290344e+10  8041.204520   NaN  \n",
      "13  2.248291e+10  8094.772391   NaN  \n",
      "14  4.484178e+10  8189.639858   NaN  \n",
      "15  4.010283e+10  8293.518136   NaN  \n",
      "16  3.131398e+10  8414.191685   NaN  \n",
      "17  3.637214e+10  8523.117955   NaN  \n",
      "18  3.233777e+10  8652.442383   NaN  \n",
      "19  3.421732e+10  8725.835379   NaN  \n",
      "20  2.642238e+10  8799.185128   NaN  \n",
      "Date       0\n",
      "Close      0\n",
      "High       0\n",
      "Low        0\n",
      "Open       0\n",
      "Volume     0\n",
      "MA7        6\n",
      "MA30      29\n",
      "dtype: int64\n"
     ]
    }
   ],
   "source": [
    "# btc_data['MA7'] = btc_data['Close'].rolling(window=7).mean()\n",
    "# btc_data['MA30'] = btc_data['Close'].rolling(window=30).mean()\n",
    "\n",
    "# print(btc_data.head(20))\n",
    "# print(btc_data.isna().sum())"
   ]
  },
  {
   "cell_type": "code",
   "execution_count": null,
   "metadata": {},
   "outputs": [
    {
     "name": "stdout",
     "output_type": "stream",
     "text": [
      "Date      0\n",
      "Close     0\n",
      "High      0\n",
      "Low       0\n",
      "Open      0\n",
      "Volume    0\n",
      "MA7       0\n",
      "MA30      0\n",
      "dtype: int64\n"
     ]
    }
   ],
   "source": [
    "# # Fill NaN values with the mean of the column\n",
    "# btc_data['MA7'] = btc_data['MA7'].fillna(btc_data['MA7'].mean())\n",
    "# btc_data['MA30'] = btc_data['MA30'].fillna(btc_data['MA30'].mean())\n",
    "\n",
    "\n",
    "# # Check if NaN values are resolved\n",
    "# print(btc_data.isna().sum())\n"
   ]
  },
  {
   "cell_type": "markdown",
   "metadata": {},
   "source": [
    "Improving the Model with More Features\n",
    "RSI (Relative Strength Index): A common technical indicator used in trading to measure the magnitude of recent price changes."
   ]
  },
  {
   "cell_type": "code",
   "execution_count": null,
   "metadata": {},
   "outputs": [
    {
     "name": "stdout",
     "output_type": "stream",
     "text": [
      "Date      0\n",
      "Close     0\n",
      "High      0\n",
      "Low       0\n",
      "Open      0\n",
      "Volume    0\n",
      "MA7       0\n",
      "MA30      0\n",
      "RSI       0\n",
      "dtype: int64\n"
     ]
    }
   ],
   "source": [
    "# # Calculate RSI (Relative Strength Index)\n",
    "# delta = btc_data['Close'].diff()\n",
    "# gain = (delta.where(delta > 0, 0)).rolling(window=14).mean()\n",
    "# loss = (-delta.where(delta < 0, 0)).rolling(window=14).mean()\n",
    "# rs = gain / loss\n",
    "# btc_data['RSI'] = 100 - (100 / (1 + rs))\n",
    "\n",
    "# btc_data['RSI'] = btc_data['RSI'].fillna(btc_data['RSI'].mean())\n",
    "\n",
    "# print(btc_data.isna().sum())\n"
   ]
  },
  {
   "cell_type": "markdown",
   "metadata": {},
   "source": [
    "Building the Trading Model \n",
    "Simple Rule-based Approach\n",
    "Create a basic trading strategy using simple rules (e.g., buy if the price goes above the moving average, sell if it goes below)."
   ]
  },
  {
   "cell_type": "code",
   "execution_count": null,
   "metadata": {},
   "outputs": [],
   "source": [
    "# btc_data['Signal'] = 0  # Default\n",
    "# btc_data.loc[btc_data['Close'] > btc_data['MA7'], 'Signal'] = 1  # Buy signal\n",
    "# btc_data.loc[btc_data['Close'] < btc_data['MA7'], 'Signal'] = -1  # Sell signal\n"
   ]
  },
  {
   "cell_type": "markdown",
   "metadata": {},
   "source": [
    "Machine Learning Approach\n",
    "You can train a machine learning model to predict Bitcoin price movements based on historical data. For this, you can use a simple classifier like Logistic Regression\n",
    "    .MA60, MA200, EMA12, EMA26: Additional moving averages to capture different timeframes.\n",
    "    .MACD, MACD_signal: The Moving Average Convergence Divergence and its signal line.\n",
    "    .Bollinger_Mid, Bollinger_Upper, Bollinger_Lower: The midline, upper, and lower Bollinger Bands.\n",
    "    .ATR: The Average True Range, which captures volatility.\n",
    "    .ROC: The Rate of Change, which helps measure price momentum.\n",
    "    .Momentum: A feature that indicates the price change over a specific period."
   ]
  },
  {
   "cell_type": "code",
   "execution_count": null,
   "metadata": {},
   "outputs": [
    {
     "name": "stdout",
     "output_type": "stream",
     "text": [
      "Fitting 3 folds for each of 18 candidates, totalling 54 fits\n",
      "Best parameters: {'C': 10, 'max_iter': 100, 'solver': 'liblinear'}\n",
      "Logistic Regression Tuning Accuracy: 0.9294478527607362\n",
      "Logistic Regression Tuning Precision: 0.9304073005326673\n",
      "Logistic Regression Tuning Recall: 0.9294478527607362\n",
      "Logistic Regression Tuning F1-Score: 0.9294990280736034\n"
     ]
    }
   ],
   "source": [
    "# from sklearn.model_selection import train_test_split, GridSearchCV\n",
    "# from sklearn.linear_model import LogisticRegression\n",
    "# from sklearn.metrics import accuracy_score, precision_score, recall_score, f1_score\n",
    "# from sklearn.preprocessing import StandardScaler\n",
    "# from imblearn.over_sampling import SMOTE\n",
    "\n",
    "# # Feature Engineering: Adding additional features\n",
    "\n",
    "# # Moving Averages\n",
    "# btc_data['MA60'] = btc_data['Close'].rolling(window=60).mean()\n",
    "# btc_data['MA200'] = btc_data['Close'].rolling(window=200).mean()\n",
    "\n",
    "# # Exponential Moving Averages (EMA)\n",
    "# btc_data['EMA12'] = btc_data['Close'].ewm(span=12, adjust=False).mean()\n",
    "# btc_data['EMA26'] = btc_data['Close'].ewm(span=26, adjust=False).mean()\n",
    "\n",
    "# # Moving Average Convergence Divergence (MACD)\n",
    "# btc_data['MACD'] = btc_data['EMA12'] - btc_data['EMA26']\n",
    "# btc_data['MACD_signal'] = btc_data['MACD'].rolling(window=9).mean()\n",
    "\n",
    "# # Bollinger Bands\n",
    "# btc_data['Bollinger_Mid'] = btc_data['Close'].rolling(window=20).mean()\n",
    "# btc_data['Bollinger_Upper'] = btc_data['Bollinger_Mid'] + (btc_data['Close'].rolling(window=20).std() * 2)\n",
    "# btc_data['Bollinger_Lower'] = btc_data['Bollinger_Mid'] - (btc_data['Close'].rolling(window=20).std() * 2)\n",
    "\n",
    "# # Average True Range (ATR)\n",
    "# high_low = btc_data['High'] - btc_data['Low']\n",
    "# high_close = abs(btc_data['High'] - btc_data['Close'].shift())\n",
    "# low_close = abs(btc_data['Low'] - btc_data['Close'].shift())\n",
    "# true_range = pd.concat([high_low, high_close, low_close], axis=1)\n",
    "# btc_data['ATR'] = true_range.max(axis=1).rolling(window=14).mean()\n",
    "\n",
    "# # Rate of Change (ROC)\n",
    "# btc_data['ROC'] = (btc_data['Close'] - btc_data['Close'].shift(12)) / btc_data['Close'].shift(12) * 100\n",
    "\n",
    "# # Momentum Indicator\n",
    "# btc_data['Momentum'] = btc_data['Close'].diff(4)\n",
    "\n",
    "# # RSI (Relative Strength Index)\n",
    "# delta = btc_data['Close'].diff()\n",
    "# gain = (delta.where(delta > 0, 0)).rolling(window=14).mean()\n",
    "# loss = (-delta.where(delta < 0, 0)).rolling(window=14).mean()\n",
    "# rs = gain / loss\n",
    "# btc_data['RSI'] = 100 - (100 / (1 + rs))\n",
    "\n",
    "# # Fill any NaN values in RSI with the mean value\n",
    "# btc_data['RSI'] = btc_data['RSI'].fillna(btc_data['RSI'].mean())\n",
    "\n",
    "# # Lag features\n",
    "# btc_data['Lag1'] = btc_data['Close'].shift(1)\n",
    "# btc_data['Lag2'] = btc_data['Close'].shift(2)\n",
    "# btc_data['Lag3'] = btc_data['Close'].shift(3)\n",
    "# btc_data['Lag4'] = btc_data['Close'].shift(4)\n",
    "\n",
    "# # Drop NaN values for the newly created features\n",
    "# btc_data = btc_data.dropna()\n",
    "\n",
    "# # Prepare data (using the new feature set)\n",
    "# X = btc_data[['MA7', 'MA30', 'RSI', 'Lag1', 'Lag2', 'Lag3', 'Lag4', \n",
    "#               'MA60', 'MA200', 'EMA12', 'EMA26', 'MACD', 'MACD_signal', \n",
    "#               'Bollinger_Mid', 'Bollinger_Upper', 'Bollinger_Lower', 'ATR', \n",
    "#               'ROC', 'Momentum']]\n",
    "# y = btc_data['Signal']  # Target: Buy (1), Sell (-1), Hold (0)\n",
    "\n",
    "# # Split data into train and test sets\n",
    "# X_train, X_test, y_train, y_test = train_test_split(X, y, test_size=0.2, random_state=42)\n",
    "\n",
    "# # Apply SMOTE to balance the dataset\n",
    "# smote = SMOTE(random_state=42)\n",
    "# X_train_smote, y_train_smote = smote.fit_resample(X_train, y_train)\n",
    "\n",
    "# # Scale the features\n",
    "# scaler = StandardScaler()\n",
    "# X_train_scaled = scaler.fit_transform(X_train_smote)\n",
    "# X_test_scaled = scaler.transform(X_test)\n",
    "\n",
    "# # Create Logistic Regression model\n",
    "# lr_model = LogisticRegression(random_state=42)\n",
    "\n",
    "# # Define the parameter grid for Logistic Regression (Hyperparameter Tuning)\n",
    "# param_grid = {\n",
    "#     'C': [0.1, 1, 10],  # Regularization strength\n",
    "#     'solver': ['liblinear', 'lbfgs'],  # Solvers to use for optimization\n",
    "#     'max_iter': [100, 200, 300]  # Maximum number of iterations\n",
    "# }\n",
    "\n",
    "# # Set up GridSearchCV for hyperparameter tuning\n",
    "# grid_search = GridSearchCV(estimator=lr_model, param_grid=param_grid, cv=3, n_jobs=-1, verbose=2)\n",
    "\n",
    "# # Fit GridSearchCV\n",
    "# grid_search.fit(X_train_scaled, y_train_smote)\n",
    "\n",
    "# # Print the best parameters found by GridSearchCV\n",
    "# print(\"Best parameters:\", grid_search.best_params_)\n",
    "\n",
    "# # Get the best model from the grid search\n",
    "# best_lr_model = grid_search.best_estimator_\n",
    "\n",
    "# # Predict on the test set with the tuned model\n",
    "# y_pred_lr_tuned = best_lr_model.predict(X_test_scaled)\n",
    "\n",
    "# # Evaluate the tuned model\n",
    "# accuracy = accuracy_score(y_test, y_pred_lr_tuned)\n",
    "# print(f\"Logistic Regression Tuning Accuracy: {accuracy}\")\n",
    "\n",
    "# # Calculate precision\n",
    "# precision = precision_score(y_test, y_pred_lr_tuned, average='weighted')\n",
    "# print(f\"Logistic Regression Tuning Precision: {precision}\")\n",
    "\n",
    "# # Calculate recall\n",
    "# recall = recall_score(y_test, y_pred_lr_tuned, average='weighted')\n",
    "# print(f\"Logistic Regression Tuning Recall: {recall}\")\n",
    "\n",
    "# # Calculate F1-Score\n",
    "# f1 = f1_score(y_test, y_pred_lr_tuned, average='weighted')\n",
    "# print(f\"Logistic Regression Tuning F1-Score: {f1}\")\n"
   ]
  },
  {
   "cell_type": "markdown",
   "metadata": {},
   "source": [
    "Evaluating Performance"
   ]
  },
  {
   "cell_type": "code",
   "execution_count": null,
   "metadata": {},
   "outputs": [
    {
     "name": "stdout",
     "output_type": "stream",
     "text": [
      "              precision    recall  f1-score   support\n",
      "\n",
      "          -1       0.91      0.95      0.93       154\n",
      "           1       0.95      0.91      0.93       172\n",
      "\n",
      "    accuracy                           0.93       326\n",
      "   macro avg       0.93      0.93      0.93       326\n",
      "weighted avg       0.93      0.93      0.93       326\n",
      "\n"
     ]
    }
   ],
   "source": [
    "# from sklearn.metrics import classification_report\n",
    "# print(classification_report(y_test, y_pred_lr_tuned))"
   ]
  },
  {
   "cell_type": "markdown",
   "metadata": {},
   "source": [
    "Feature Importance"
   ]
  },
  {
   "cell_type": "code",
   "execution_count": null,
   "metadata": {},
   "outputs": [
    {
     "data": {
      "image/png": "[encoded data removed]",
      "text/plain": [
       "<Figure size 1000x600 with 1 Axes>"
      ]
     },
     "metadata": {},
     "output_type": "display_data"
    }
   ],
   "source": [
    "# import matplotlib.pyplot as plt\n",
    "# feature_names = X.columns\n",
    "# coefficients = best_lr_model.coef_[0]\n",
    "\n",
    "# # Plot feature importance\n",
    "# plt.figure(figsize=(10, 6))\n",
    "# plt.barh(feature_names, coefficients, color='skyblue')\n",
    "# plt.title('Feature Importance (Logistic Regression Coefficients)')\n",
    "# plt.xlabel('Coefficient Value')\n",
    "# plt.ylabel('Features')\n",
    "# plt.show()\n"
   ]
  },
  {
   "cell_type": "code",
   "execution_count": null,
   "metadata": {},
   "outputs": [
    {
     "data": {
      "image/png": "[encoded data removed]",
      "text/plain": [
       "<Figure size 1000x600 with 1 Axes>"
      ]
     },
     "metadata": {},
     "output_type": "display_data"
    },
    {
     "name": "stdout",
     "output_type": "stream",
     "text": [
      "Average Cross-Validation Accuracy: 0.881227127028596\n"
     ]
    }
   ],
   "source": [
    "# import matplotlib.pyplot as plt\n",
    "# import numpy as np\n",
    "# from sklearn.model_selection import cross_val_score\n",
    "\n",
    "# # Cross-validation scores\n",
    "# cv_scores = cross_val_score(lr_model, X_train_scaled, y_train_smote, cv=5)\n",
    "\n",
    "# # Visualizing the cross-validation scores\n",
    "# plt.figure(figsize=(10, 6))\n",
    "\n",
    "# # Plotting individual accuracy scores for each fold\n",
    "# plt.bar(range(1, len(cv_scores) + 1), cv_scores, color='skyblue', label=\"Fold Accuracy\")\n",
    "\n",
    "# # Plotting the average accuracy line\n",
    "# plt.axhline(y=np.mean(cv_scores), color='red', linestyle='--', label=\"Average Accuracy\")\n",
    "# plt.ylim(0.0, 1.0)\n",
    "# plt.title('Cross-Validation Accuracy per Fold')\n",
    "# plt.xlabel('Fold')\n",
    "# plt.ylabel('Accuracy')\n",
    "# plt.legend()\n",
    "\n",
    "# plt.show()\n",
    "\n",
    "# # Print the average accuracy\n",
    "# print(f\"Average Cross-Validation Accuracy: {np.mean(cv_scores)}\")\n"
   ]
  }
 ],
 "metadata": {
  "kernelspec": {
   "display_name": "trading-env",
   "language": "python",
   "name": "python3"
  },
  "language_info": {
   "codemirror_mode": {
    "name": "ipython",
    "version": 3
   },
   "file_extension": ".py",
   "mimetype": "text/x-python",
   "name": "python",
   "nbconvert_exporter": "python",
   "pygments_lexer": "ipython3",
   "version": "3.12.9"
  }
 },
 "nbformat": 4,
 "nbformat_minor": 2
}
